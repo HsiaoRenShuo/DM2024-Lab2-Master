{
 "cells": [
  {
   "cell_type": "code",
   "execution_count": 1,
   "id": "cc8d314c",
   "metadata": {
    "_cell_guid": "b1076dfc-b9ad-4769-8c92-a6c4dae69d19",
    "_uuid": "8f2839f25d086af736a60e9eeb907d3b93b6e0e5",
    "execution": {
     "iopub.execute_input": "2024-12-03T08:06:28.264810Z",
     "iopub.status.busy": "2024-12-03T08:06:28.264264Z",
     "iopub.status.idle": "2024-12-03T08:06:29.312956Z",
     "shell.execute_reply": "2024-12-03T08:06:29.311520Z"
    },
    "papermill": {
     "duration": 1.058277,
     "end_time": "2024-12-03T08:06:29.315622",
     "exception": false,
     "start_time": "2024-12-03T08:06:28.257345",
     "status": "completed"
    },
    "tags": []
   },
   "outputs": [
    {
     "name": "stdout",
     "output_type": "stream",
     "text": [
      "/kaggle/input/dm-2024-isa-5810-lab-2-homework/tweets_DM.json\n",
      "/kaggle/input/dm-2024-isa-5810-lab-2-homework/sampleSubmission.csv\n",
      "/kaggle/input/dm-2024-isa-5810-lab-2-homework/data_identification.csv\n",
      "/kaggle/input/dm-2024-isa-5810-lab-2-homework/emotion.csv\n"
     ]
    }
   ],
   "source": [
    "# This Python 3 environment comes with many helpful analytics libraries installed\n",
    "# It is defined by the kaggle/python Docker image: https://github.com/kaggle/docker-python\n",
    "# For example, here's several helpful packages to load\n",
    "\n",
    "import numpy as np # linear algebra\n",
    "import pandas as pd # data processing, CSV file I/O (e.g. pd.read_csv)\n",
    "\n",
    "# Input data files are available in the read-only \"../input/\" directory\n",
    "# For example, running this (by clicking run or pressing Shift+Enter) will list all files under the input directory\n",
    "\n",
    "import os\n",
    "for dirname, _, filenames in os.walk('/kaggle/input'):\n",
    "    for filename in filenames:\n",
    "        print(os.path.join(dirname, filename))\n",
    "\n",
    "# You can write up to 20GB to the current directory (/kaggle/working/) that gets preserved as output when you create a version using \"Save & Run All\" \n",
    "# You can also write temporary files to /kaggle/temp/, but they won't be saved outside of the current session"
   ]
  },
  {
   "cell_type": "markdown",
   "id": "f37371a2",
   "metadata": {
    "papermill": {
     "duration": 0.003738,
     "end_time": "2024-12-03T08:06:29.323930",
     "exception": false,
     "start_time": "2024-12-03T08:06:29.320192",
     "status": "completed"
    },
    "tags": []
   },
   "source": [
    "# Data Processing"
   ]
  },
  {
   "cell_type": "markdown",
   "id": "a06866b6",
   "metadata": {
    "papermill": {
     "duration": 0.004722,
     "end_time": "2024-12-03T08:06:29.333110",
     "exception": false,
     "start_time": "2024-12-03T08:06:29.328388",
     "status": "completed"
    },
    "tags": []
   },
   "source": [
    "## Import Library"
   ]
  },
  {
   "cell_type": "code",
   "execution_count": 2,
   "id": "6f2bd5f8",
   "metadata": {
    "execution": {
     "iopub.execute_input": "2024-12-03T08:06:29.344064Z",
     "iopub.status.busy": "2024-12-03T08:06:29.342754Z",
     "iopub.status.idle": "2024-12-03T08:06:32.133062Z",
     "shell.execute_reply": "2024-12-03T08:06:32.131784Z"
    },
    "papermill": {
     "duration": 2.798407,
     "end_time": "2024-12-03T08:06:32.135759",
     "exception": false,
     "start_time": "2024-12-03T08:06:29.337352",
     "status": "completed"
    },
    "tags": []
   },
   "outputs": [],
   "source": [
    "# Common used Library\n",
    "import pandas as pd\n",
    "import numpy as np\n",
    "import nltk\n",
    "# for ploting\n",
    "import matplotlib.pyplot as plt\n",
    "from collections import Counter\n",
    "\n",
    "from sklearn.feature_extraction.text import TfidfVectorizer\n",
    "from sklearn.model_selection import train_test_split\n",
    "from sklearn.preprocessing import LabelEncoder\n",
    "from sklearn.ensemble import RandomForestClassifier\n",
    "from sklearn.metrics import classification_report"
   ]
  },
  {
   "cell_type": "markdown",
   "id": "9903d609",
   "metadata": {
    "papermill": {
     "duration": 0.003938,
     "end_time": "2024-12-03T08:06:32.144006",
     "exception": false,
     "start_time": "2024-12-03T08:06:32.140068",
     "status": "completed"
    },
    "tags": []
   },
   "source": [
    "## Load data"
   ]
  },
  {
   "cell_type": "code",
   "execution_count": 3,
   "id": "29490ffa",
   "metadata": {
    "execution": {
     "iopub.execute_input": "2024-12-03T08:06:32.155619Z",
     "iopub.status.busy": "2024-12-03T08:06:32.155030Z",
     "iopub.status.idle": "2024-12-03T08:07:08.714575Z",
     "shell.execute_reply": "2024-12-03T08:07:08.713022Z"
    },
    "papermill": {
     "duration": 36.568306,
     "end_time": "2024-12-03T08:07:08.717711",
     "exception": false,
     "start_time": "2024-12-03T08:06:32.149405",
     "status": "completed"
    },
    "tags": []
   },
   "outputs": [],
   "source": [
    "import json\n",
    "# Read data\n",
    "data = []\n",
    "with open('/kaggle/input/dm-2024-isa-5810-lab-2-homework/tweets_DM.json', 'r') as f:\n",
    "    for line in f:\n",
    "        data.append(json.loads(line))\n",
    " \n",
    "f.close()\n",
    "emotion = pd.read_csv('/kaggle/input/dm-2024-isa-5810-lab-2-homework/emotion.csv')\n",
    "data_identification = pd.read_csv('/kaggle/input/dm-2024-isa-5810-lab-2-homework/data_identification.csv')"
   ]
  },
  {
   "cell_type": "markdown",
   "id": "5a2d0e54",
   "metadata": {
    "papermill": {
     "duration": 0.003839,
     "end_time": "2024-12-03T08:07:08.726010",
     "exception": false,
     "start_time": "2024-12-03T08:07:08.722171",
     "status": "completed"
    },
    "tags": []
   },
   "source": [
    "## Raw data cleaning"
   ]
  },
  {
   "cell_type": "code",
   "execution_count": 4,
   "id": "d41c15a5",
   "metadata": {
    "execution": {
     "iopub.execute_input": "2024-12-03T08:07:08.736642Z",
     "iopub.status.busy": "2024-12-03T08:07:08.736222Z",
     "iopub.status.idle": "2024-12-03T08:07:14.872173Z",
     "shell.execute_reply": "2024-12-03T08:07:14.871014Z"
    },
    "papermill": {
     "duration": 6.144605,
     "end_time": "2024-12-03T08:07:14.874776",
     "exception": false,
     "start_time": "2024-12-03T08:07:08.730171",
     "status": "completed"
    },
    "tags": []
   },
   "outputs": [],
   "source": [
    "# Extract out the tweet_id/hashtags/text\n",
    "df = pd.DataFrame(data)\n",
    "_source = df['_source'].apply(lambda x: x['tweet'])\n",
    "df = pd.DataFrame({\n",
    "    'tweet_id': _source.apply(lambda x: x['tweet_id']),\n",
    "    'hashtags': _source.apply(lambda x: x['hashtags']),\n",
    "    'text': _source.apply(lambda x: x['text']),\n",
    "})"
   ]
  },
  {
   "cell_type": "code",
   "execution_count": 5,
   "id": "4ff9560e",
   "metadata": {
    "execution": {
     "iopub.execute_input": "2024-12-03T08:07:14.884707Z",
     "iopub.status.busy": "2024-12-03T08:07:14.884249Z",
     "iopub.status.idle": "2024-12-03T08:07:24.589300Z",
     "shell.execute_reply": "2024-12-03T08:07:24.587827Z"
    },
    "papermill": {
     "duration": 9.713599,
     "end_time": "2024-12-03T08:07:24.592517",
     "exception": false,
     "start_time": "2024-12-03T08:07:14.878918",
     "status": "completed"
    },
    "tags": []
   },
   "outputs": [],
   "source": [
    "df = df.merge(data_identification, on='tweet_id', how='left')\n",
    "\n",
    "train_data = df[df['identification'] == 'train']\n",
    "test_data = df[df['identification'] == 'test']\n",
    "\n",
    "train_data = train_data.merge(emotion, on='tweet_id', how='left')\n",
    "train_data.drop_duplicates(subset=['text'], keep=False, inplace=True)\n",
    "\n",
    "train_data_sample = train_data.sample(frac=0.3, random_state=42)\n",
    "y_train_data = train_data_sample['emotion']\n",
    "x_train_data = train_data_sample['text']\n",
    "\n",
    "X_train, X_val, y_train, y_val = train_test_split(\n",
    "    x_train_data, y_train_data, test_size=0.2, random_state=42, stratify=y_train_data\n",
    ")\n"
   ]
  },
  {
   "cell_type": "code",
   "execution_count": 6,
   "id": "4b252bc4",
   "metadata": {
    "execution": {
     "iopub.execute_input": "2024-12-03T08:07:24.604855Z",
     "iopub.status.busy": "2024-12-03T08:07:24.604349Z",
     "iopub.status.idle": "2024-12-03T08:07:40.465737Z",
     "shell.execute_reply": "2024-12-03T08:07:40.464622Z"
    },
    "papermill": {
     "duration": 15.870687,
     "end_time": "2024-12-03T08:07:40.468342",
     "exception": false,
     "start_time": "2024-12-03T08:07:24.597655",
     "status": "completed"
    },
    "tags": []
   },
   "outputs": [],
   "source": [
    "import keras\n",
    "from sklearn.preprocessing import LabelEncoder\n",
    "\n",
    "label_encoder = LabelEncoder()\n",
    "label_encoder.fit(y_train)\n",
    "\n",
    "def label_encode(le, labels):\n",
    "    enc = le.transform(labels)\n",
    "    return keras.utils.to_categorical(enc)\n",
    "\n",
    "def label_decode(le, one_hot_label):\n",
    "    dec = np.argmax(one_hot_label, axis=1)\n",
    "    return le.inverse_transform(dec)\n",
    "\n",
    "y_train = label_encode(label_encoder, y_train)\n",
    "y_val = label_encode(label_encoder, y_val)"
   ]
  },
  {
   "cell_type": "code",
   "execution_count": 7,
   "id": "c2ffd5d1",
   "metadata": {
    "execution": {
     "iopub.execute_input": "2024-12-03T08:07:40.478410Z",
     "iopub.status.busy": "2024-12-03T08:07:40.477723Z",
     "iopub.status.idle": "2024-12-03T08:07:54.978672Z",
     "shell.execute_reply": "2024-12-03T08:07:54.977459Z"
    },
    "papermill": {
     "duration": 14.508734,
     "end_time": "2024-12-03T08:07:54.981135",
     "exception": false,
     "start_time": "2024-12-03T08:07:40.472401",
     "status": "completed"
    },
    "tags": []
   },
   "outputs": [],
   "source": [
    "from sklearn.feature_extraction.text import CountVectorizer\n",
    "#import nltk\n",
    "BOW_1000 = CountVectorizer(max_features=1000)\n",
    "BOW_1000.fit(X_train)\n",
    "\n",
    "X_train = BOW_1000.transform(X_train)\n",
    "X_val = BOW_1000.transform(X_val)\n"
   ]
  },
  {
   "cell_type": "code",
   "execution_count": 8,
   "id": "9f9d74a6",
   "metadata": {
    "execution": {
     "iopub.execute_input": "2024-12-03T08:07:54.991036Z",
     "iopub.status.busy": "2024-12-03T08:07:54.990621Z",
     "iopub.status.idle": "2024-12-03T08:07:54.996647Z",
     "shell.execute_reply": "2024-12-03T08:07:54.995491Z"
    },
    "papermill": {
     "duration": 0.013908,
     "end_time": "2024-12-03T08:07:54.999247",
     "exception": false,
     "start_time": "2024-12-03T08:07:54.985339",
     "status": "completed"
    },
    "tags": []
   },
   "outputs": [
    {
     "name": "stdout",
     "output_type": "stream",
     "text": [
      "X_train.shape:  (347804, 1000)\n",
      "y_train.shape:  (347804, 8)\n",
      "X_val.shape:  (86951, 1000)\n",
      "y_val.shape:  (86951, 8)\n"
     ]
    }
   ],
   "source": [
    "print('X_train.shape: ', X_train.shape)\n",
    "print('y_train.shape: ', y_train.shape)\n",
    "print('X_val.shape: ', X_val.shape)\n",
    "print('y_val.shape: ', y_val.shape)"
   ]
  },
  {
   "cell_type": "code",
   "execution_count": 9,
   "id": "cae214e0",
   "metadata": {
    "execution": {
     "iopub.execute_input": "2024-12-03T08:07:55.009381Z",
     "iopub.status.busy": "2024-12-03T08:07:55.008981Z",
     "iopub.status.idle": "2024-12-03T08:07:55.015553Z",
     "shell.execute_reply": "2024-12-03T08:07:55.014057Z"
    },
    "papermill": {
     "duration": 0.014366,
     "end_time": "2024-12-03T08:07:55.017839",
     "exception": false,
     "start_time": "2024-12-03T08:07:55.003473",
     "status": "completed"
    },
    "tags": []
   },
   "outputs": [
    {
     "name": "stdout",
     "output_type": "stream",
     "text": [
      "input_shape:  1000\n",
      "output_shape:  8\n"
     ]
    }
   ],
   "source": [
    "# I/O check\n",
    "input_shape = X_train.shape[1]\n",
    "print('input_shape: ', input_shape)\n",
    "\n",
    "output_shape = len(label_encoder.classes_)\n",
    "print('output_shape: ', output_shape)"
   ]
  },
  {
   "cell_type": "code",
   "execution_count": 10,
   "id": "8e526a2c",
   "metadata": {
    "execution": {
     "iopub.execute_input": "2024-12-03T08:07:55.028425Z",
     "iopub.status.busy": "2024-12-03T08:07:55.028052Z",
     "iopub.status.idle": "2024-12-03T08:07:55.151034Z",
     "shell.execute_reply": "2024-12-03T08:07:55.149898Z"
    },
    "papermill": {
     "duration": 0.130803,
     "end_time": "2024-12-03T08:07:55.153117",
     "exception": false,
     "start_time": "2024-12-03T08:07:55.022314",
     "status": "completed"
    },
    "tags": []
   },
   "outputs": [
    {
     "data": {
      "text/html": [
       "<pre style=\"white-space:pre;overflow-x:auto;line-height:normal;font-family:Menlo,'DejaVu Sans Mono',consolas,'Courier New',monospace\"><span style=\"font-weight: bold\">Model: \"functional_1\"</span>\n",
       "</pre>\n"
      ],
      "text/plain": [
       "\u001b[1mModel: \"functional_1\"\u001b[0m\n"
      ]
     },
     "metadata": {},
     "output_type": "display_data"
    },
    {
     "data": {
      "text/html": [
       "<pre style=\"white-space:pre;overflow-x:auto;line-height:normal;font-family:Menlo,'DejaVu Sans Mono',consolas,'Courier New',monospace\">┏━━━━━━━━━━━━━━━━━━━━━━━━━━━━━━━━━┳━━━━━━━━━━━━━━━━━━━━━━━━┳━━━━━━━━━━━━━━━┓\n",
       "┃<span style=\"font-weight: bold\"> Layer (type)                    </span>┃<span style=\"font-weight: bold\"> Output Shape           </span>┃<span style=\"font-weight: bold\">       Param # </span>┃\n",
       "┡━━━━━━━━━━━━━━━━━━━━━━━━━━━━━━━━━╇━━━━━━━━━━━━━━━━━━━━━━━━╇━━━━━━━━━━━━━━━┩\n",
       "│ input_layer (<span style=\"color: #0087ff; text-decoration-color: #0087ff\">InputLayer</span>)        │ (<span style=\"color: #00d7ff; text-decoration-color: #00d7ff\">None</span>, <span style=\"color: #00af00; text-decoration-color: #00af00\">1000</span>)           │             <span style=\"color: #00af00; text-decoration-color: #00af00\">0</span> │\n",
       "├─────────────────────────────────┼────────────────────────┼───────────────┤\n",
       "│ dense (<span style=\"color: #0087ff; text-decoration-color: #0087ff\">Dense</span>)                   │ (<span style=\"color: #00d7ff; text-decoration-color: #00d7ff\">None</span>, <span style=\"color: #00af00; text-decoration-color: #00af00\">64</span>)             │        <span style=\"color: #00af00; text-decoration-color: #00af00\">64,064</span> │\n",
       "├─────────────────────────────────┼────────────────────────┼───────────────┤\n",
       "│ re_lu (<span style=\"color: #0087ff; text-decoration-color: #0087ff\">ReLU</span>)                    │ (<span style=\"color: #00d7ff; text-decoration-color: #00d7ff\">None</span>, <span style=\"color: #00af00; text-decoration-color: #00af00\">64</span>)             │             <span style=\"color: #00af00; text-decoration-color: #00af00\">0</span> │\n",
       "├─────────────────────────────────┼────────────────────────┼───────────────┤\n",
       "│ dense_1 (<span style=\"color: #0087ff; text-decoration-color: #0087ff\">Dense</span>)                 │ (<span style=\"color: #00d7ff; text-decoration-color: #00d7ff\">None</span>, <span style=\"color: #00af00; text-decoration-color: #00af00\">64</span>)             │         <span style=\"color: #00af00; text-decoration-color: #00af00\">4,160</span> │\n",
       "├─────────────────────────────────┼────────────────────────┼───────────────┤\n",
       "│ re_lu_1 (<span style=\"color: #0087ff; text-decoration-color: #0087ff\">ReLU</span>)                  │ (<span style=\"color: #00d7ff; text-decoration-color: #00d7ff\">None</span>, <span style=\"color: #00af00; text-decoration-color: #00af00\">64</span>)             │             <span style=\"color: #00af00; text-decoration-color: #00af00\">0</span> │\n",
       "├─────────────────────────────────┼────────────────────────┼───────────────┤\n",
       "│ dense_2 (<span style=\"color: #0087ff; text-decoration-color: #0087ff\">Dense</span>)                 │ (<span style=\"color: #00d7ff; text-decoration-color: #00d7ff\">None</span>, <span style=\"color: #00af00; text-decoration-color: #00af00\">8</span>)              │           <span style=\"color: #00af00; text-decoration-color: #00af00\">520</span> │\n",
       "├─────────────────────────────────┼────────────────────────┼───────────────┤\n",
       "│ softmax (<span style=\"color: #0087ff; text-decoration-color: #0087ff\">Softmax</span>)               │ (<span style=\"color: #00d7ff; text-decoration-color: #00d7ff\">None</span>, <span style=\"color: #00af00; text-decoration-color: #00af00\">8</span>)              │             <span style=\"color: #00af00; text-decoration-color: #00af00\">0</span> │\n",
       "└─────────────────────────────────┴────────────────────────┴───────────────┘\n",
       "</pre>\n"
      ],
      "text/plain": [
       "┏━━━━━━━━━━━━━━━━━━━━━━━━━━━━━━━━━┳━━━━━━━━━━━━━━━━━━━━━━━━┳━━━━━━━━━━━━━━━┓\n",
       "┃\u001b[1m \u001b[0m\u001b[1mLayer (type)                   \u001b[0m\u001b[1m \u001b[0m┃\u001b[1m \u001b[0m\u001b[1mOutput Shape          \u001b[0m\u001b[1m \u001b[0m┃\u001b[1m \u001b[0m\u001b[1m      Param #\u001b[0m\u001b[1m \u001b[0m┃\n",
       "┡━━━━━━━━━━━━━━━━━━━━━━━━━━━━━━━━━╇━━━━━━━━━━━━━━━━━━━━━━━━╇━━━━━━━━━━━━━━━┩\n",
       "│ input_layer (\u001b[38;5;33mInputLayer\u001b[0m)        │ (\u001b[38;5;45mNone\u001b[0m, \u001b[38;5;34m1000\u001b[0m)           │             \u001b[38;5;34m0\u001b[0m │\n",
       "├─────────────────────────────────┼────────────────────────┼───────────────┤\n",
       "│ dense (\u001b[38;5;33mDense\u001b[0m)                   │ (\u001b[38;5;45mNone\u001b[0m, \u001b[38;5;34m64\u001b[0m)             │        \u001b[38;5;34m64,064\u001b[0m │\n",
       "├─────────────────────────────────┼────────────────────────┼───────────────┤\n",
       "│ re_lu (\u001b[38;5;33mReLU\u001b[0m)                    │ (\u001b[38;5;45mNone\u001b[0m, \u001b[38;5;34m64\u001b[0m)             │             \u001b[38;5;34m0\u001b[0m │\n",
       "├─────────────────────────────────┼────────────────────────┼───────────────┤\n",
       "│ dense_1 (\u001b[38;5;33mDense\u001b[0m)                 │ (\u001b[38;5;45mNone\u001b[0m, \u001b[38;5;34m64\u001b[0m)             │         \u001b[38;5;34m4,160\u001b[0m │\n",
       "├─────────────────────────────────┼────────────────────────┼───────────────┤\n",
       "│ re_lu_1 (\u001b[38;5;33mReLU\u001b[0m)                  │ (\u001b[38;5;45mNone\u001b[0m, \u001b[38;5;34m64\u001b[0m)             │             \u001b[38;5;34m0\u001b[0m │\n",
       "├─────────────────────────────────┼────────────────────────┼───────────────┤\n",
       "│ dense_2 (\u001b[38;5;33mDense\u001b[0m)                 │ (\u001b[38;5;45mNone\u001b[0m, \u001b[38;5;34m8\u001b[0m)              │           \u001b[38;5;34m520\u001b[0m │\n",
       "├─────────────────────────────────┼────────────────────────┼───────────────┤\n",
       "│ softmax (\u001b[38;5;33mSoftmax\u001b[0m)               │ (\u001b[38;5;45mNone\u001b[0m, \u001b[38;5;34m8\u001b[0m)              │             \u001b[38;5;34m0\u001b[0m │\n",
       "└─────────────────────────────────┴────────────────────────┴───────────────┘\n"
      ]
     },
     "metadata": {},
     "output_type": "display_data"
    },
    {
     "data": {
      "text/html": [
       "<pre style=\"white-space:pre;overflow-x:auto;line-height:normal;font-family:Menlo,'DejaVu Sans Mono',consolas,'Courier New',monospace\"><span style=\"font-weight: bold\"> Total params: </span><span style=\"color: #00af00; text-decoration-color: #00af00\">68,744</span> (268.53 KB)\n",
       "</pre>\n"
      ],
      "text/plain": [
       "\u001b[1m Total params: \u001b[0m\u001b[38;5;34m68,744\u001b[0m (268.53 KB)\n"
      ]
     },
     "metadata": {},
     "output_type": "display_data"
    },
    {
     "data": {
      "text/html": [
       "<pre style=\"white-space:pre;overflow-x:auto;line-height:normal;font-family:Menlo,'DejaVu Sans Mono',consolas,'Courier New',monospace\"><span style=\"font-weight: bold\"> Trainable params: </span><span style=\"color: #00af00; text-decoration-color: #00af00\">68,744</span> (268.53 KB)\n",
       "</pre>\n"
      ],
      "text/plain": [
       "\u001b[1m Trainable params: \u001b[0m\u001b[38;5;34m68,744\u001b[0m (268.53 KB)\n"
      ]
     },
     "metadata": {},
     "output_type": "display_data"
    },
    {
     "data": {
      "text/html": [
       "<pre style=\"white-space:pre;overflow-x:auto;line-height:normal;font-family:Menlo,'DejaVu Sans Mono',consolas,'Courier New',monospace\"><span style=\"font-weight: bold\"> Non-trainable params: </span><span style=\"color: #00af00; text-decoration-color: #00af00\">0</span> (0.00 B)\n",
       "</pre>\n"
      ],
      "text/plain": [
       "\u001b[1m Non-trainable params: \u001b[0m\u001b[38;5;34m0\u001b[0m (0.00 B)\n"
      ]
     },
     "metadata": {},
     "output_type": "display_data"
    }
   ],
   "source": [
    "from keras.models import Model\n",
    "from keras.layers import Input, Dense\n",
    "from keras.layers import ReLU, Softmax\n",
    "\n",
    "# input layer\n",
    "model_input = Input(shape=(input_shape, ))  # 500\n",
    "X = model_input\n",
    "\n",
    "# 1st hidden layer\n",
    "X_W1 = Dense(units=64)(X)  # 64\n",
    "H1 = ReLU()(X_W1)\n",
    "\n",
    "# 2nd hidden layer\n",
    "H1_W2 = Dense(units=64)(H1)  # 64\n",
    "H2 = ReLU()(H1_W2)\n",
    "\n",
    "# output layer\n",
    "H2_W3 = Dense(units=output_shape)(H2)  # 4\n",
    "H3 = Softmax()(H2_W3)\n",
    "\n",
    "model_output = H3\n",
    "\n",
    "# create model\n",
    "model = Model(inputs=[model_input], outputs=[model_output])\n",
    "\n",
    "# loss function & optimizer\n",
    "model.compile(optimizer='adam',\n",
    "              loss='categorical_crossentropy',\n",
    "              metrics=['accuracy'])\n",
    "\n",
    "# show model construction\n",
    "model.summary()"
   ]
  },
  {
   "cell_type": "code",
   "execution_count": 11,
   "id": "116ad8a5",
   "metadata": {
    "execution": {
     "iopub.execute_input": "2024-12-03T08:07:55.164632Z",
     "iopub.status.busy": "2024-12-03T08:07:55.164201Z",
     "iopub.status.idle": "2024-12-03T08:15:30.357079Z",
     "shell.execute_reply": "2024-12-03T08:15:30.355669Z"
    },
    "papermill": {
     "duration": 455.201447,
     "end_time": "2024-12-03T08:15:30.359609",
     "exception": false,
     "start_time": "2024-12-03T08:07:55.158162",
     "status": "completed"
    },
    "tags": []
   },
   "outputs": [
    {
     "name": "stdout",
     "output_type": "stream",
     "text": [
      "Epoch 1/15\n",
      "\u001b[1m10869/10869\u001b[0m \u001b[32m━━━━━━━━━━━━━━━━━━━━\u001b[0m\u001b[37m\u001b[0m \u001b[1m34s\u001b[0m 3ms/step - accuracy: 0.4651 - loss: 1.4783 - val_accuracy: 0.4996 - val_loss: 1.3787\n",
      "Epoch 2/15\n",
      "\u001b[1m10869/10869\u001b[0m \u001b[32m━━━━━━━━━━━━━━━━━━━━\u001b[0m\u001b[37m\u001b[0m \u001b[1m32s\u001b[0m 3ms/step - accuracy: 0.5100 - loss: 1.3432 - val_accuracy: 0.5050 - val_loss: 1.3616\n",
      "Epoch 3/15\n",
      "\u001b[1m10869/10869\u001b[0m \u001b[32m━━━━━━━━━━━━━━━━━━━━\u001b[0m\u001b[37m\u001b[0m \u001b[1m30s\u001b[0m 3ms/step - accuracy: 0.5235 - loss: 1.3094 - val_accuracy: 0.5031 - val_loss: 1.3621\n",
      "Epoch 4/15\n",
      "\u001b[1m10869/10869\u001b[0m \u001b[32m━━━━━━━━━━━━━━━━━━━━\u001b[0m\u001b[37m\u001b[0m \u001b[1m31s\u001b[0m 3ms/step - accuracy: 0.5318 - loss: 1.2883 - val_accuracy: 0.5043 - val_loss: 1.3616\n",
      "Epoch 5/15\n",
      "\u001b[1m10869/10869\u001b[0m \u001b[32m━━━━━━━━━━━━━━━━━━━━\u001b[0m\u001b[37m\u001b[0m \u001b[1m31s\u001b[0m 3ms/step - accuracy: 0.5414 - loss: 1.2657 - val_accuracy: 0.5057 - val_loss: 1.3632\n",
      "Epoch 6/15\n",
      "\u001b[1m10869/10869\u001b[0m \u001b[32m━━━━━━━━━━━━━━━━━━━━\u001b[0m\u001b[37m\u001b[0m \u001b[1m30s\u001b[0m 3ms/step - accuracy: 0.5444 - loss: 1.2543 - val_accuracy: 0.5024 - val_loss: 1.3770\n",
      "Epoch 7/15\n",
      "\u001b[1m10869/10869\u001b[0m \u001b[32m━━━━━━━━━━━━━━━━━━━━\u001b[0m\u001b[37m\u001b[0m \u001b[1m30s\u001b[0m 3ms/step - accuracy: 0.5500 - loss: 1.2426 - val_accuracy: 0.5019 - val_loss: 1.3836\n",
      "Epoch 8/15\n",
      "\u001b[1m10869/10869\u001b[0m \u001b[32m━━━━━━━━━━━━━━━━━━━━\u001b[0m\u001b[37m\u001b[0m \u001b[1m31s\u001b[0m 3ms/step - accuracy: 0.5526 - loss: 1.2337 - val_accuracy: 0.5005 - val_loss: 1.3900\n",
      "Epoch 9/15\n",
      "\u001b[1m10869/10869\u001b[0m \u001b[32m━━━━━━━━━━━━━━━━━━━━\u001b[0m\u001b[37m\u001b[0m \u001b[1m29s\u001b[0m 3ms/step - accuracy: 0.5570 - loss: 1.2243 - val_accuracy: 0.4983 - val_loss: 1.3969\n",
      "Epoch 10/15\n",
      "\u001b[1m10869/10869\u001b[0m \u001b[32m━━━━━━━━━━━━━━━━━━━━\u001b[0m\u001b[37m\u001b[0m \u001b[1m29s\u001b[0m 3ms/step - accuracy: 0.5587 - loss: 1.2190 - val_accuracy: 0.4992 - val_loss: 1.3975\n",
      "Epoch 11/15\n",
      "\u001b[1m10869/10869\u001b[0m \u001b[32m━━━━━━━━━━━━━━━━━━━━\u001b[0m\u001b[37m\u001b[0m \u001b[1m29s\u001b[0m 3ms/step - accuracy: 0.5629 - loss: 1.2120 - val_accuracy: 0.4982 - val_loss: 1.4096\n",
      "Epoch 12/15\n",
      "\u001b[1m10869/10869\u001b[0m \u001b[32m━━━━━━━━━━━━━━━━━━━━\u001b[0m\u001b[37m\u001b[0m \u001b[1m31s\u001b[0m 3ms/step - accuracy: 0.5631 - loss: 1.2070 - val_accuracy: 0.4977 - val_loss: 1.4119\n",
      "Epoch 13/15\n",
      "\u001b[1m10869/10869\u001b[0m \u001b[32m━━━━━━━━━━━━━━━━━━━━\u001b[0m\u001b[37m\u001b[0m \u001b[1m30s\u001b[0m 3ms/step - accuracy: 0.5670 - loss: 1.1978 - val_accuracy: 0.4950 - val_loss: 1.4175\n",
      "Epoch 14/15\n",
      "\u001b[1m10869/10869\u001b[0m \u001b[32m━━━━━━━━━━━━━━━━━━━━\u001b[0m\u001b[37m\u001b[0m \u001b[1m29s\u001b[0m 3ms/step - accuracy: 0.5693 - loss: 1.1926 - val_accuracy: 0.4945 - val_loss: 1.4289\n",
      "Epoch 15/15\n",
      "\u001b[1m10869/10869\u001b[0m \u001b[32m━━━━━━━━━━━━━━━━━━━━\u001b[0m\u001b[37m\u001b[0m \u001b[1m29s\u001b[0m 3ms/step - accuracy: 0.5716 - loss: 1.1896 - val_accuracy: 0.4958 - val_loss: 1.4349\n",
      "training finish\n"
     ]
    }
   ],
   "source": [
    "from keras.callbacks import CSVLogger\n",
    "\n",
    "csv_logger = CSVLogger('/kaggle/working/training_log.csv')\n",
    "\n",
    "# training setting\n",
    "epochs = 15\n",
    "batch_size = 32\n",
    "\n",
    "# training!\n",
    "history = model.fit(X_train, y_train,\n",
    "                    epochs=epochs,\n",
    "                    batch_size=batch_size,\n",
    "                    callbacks=[csv_logger],\n",
    "                    validation_data = (X_val, y_val))\n",
    "print('training finish')"
   ]
  },
  {
   "cell_type": "code",
   "execution_count": 12,
   "id": "6a1ef022",
   "metadata": {
    "execution": {
     "iopub.execute_input": "2024-12-03T08:15:31.249064Z",
     "iopub.status.busy": "2024-12-03T08:15:31.248664Z",
     "iopub.status.idle": "2024-12-03T08:15:38.665532Z",
     "shell.execute_reply": "2024-12-03T08:15:38.664361Z"
    },
    "papermill": {
     "duration": 7.863717,
     "end_time": "2024-12-03T08:15:38.667962",
     "exception": false,
     "start_time": "2024-12-03T08:15:30.804245",
     "status": "completed"
    },
    "tags": []
   },
   "outputs": [
    {
     "name": "stdout",
     "output_type": "stream",
     "text": [
      "X_test.shape:  (411972, 1000)\n"
     ]
    }
   ],
   "source": [
    "\n",
    "X_test = BOW_1000.transform(test_data['text'])\n",
    "print('X_test.shape: ', X_test.shape)"
   ]
  },
  {
   "cell_type": "code",
   "execution_count": 13,
   "id": "d288da71",
   "metadata": {
    "execution": {
     "iopub.execute_input": "2024-12-03T08:15:39.604171Z",
     "iopub.status.busy": "2024-12-03T08:15:39.603745Z",
     "iopub.status.idle": "2024-12-03T08:15:49.856553Z",
     "shell.execute_reply": "2024-12-03T08:15:49.855321Z"
    },
    "papermill": {
     "duration": 10.694547,
     "end_time": "2024-12-03T08:15:49.858889",
     "exception": false,
     "start_time": "2024-12-03T08:15:39.164342",
     "status": "completed"
    },
    "tags": []
   },
   "outputs": [
    {
     "name": "stdout",
     "output_type": "stream",
     "text": [
      "\u001b[1m3219/3219\u001b[0m \u001b[32m━━━━━━━━━━━━━━━━━━━━\u001b[0m\u001b[37m\u001b[0m \u001b[1m8s\u001b[0m 3ms/step\n",
      "pred_result:  (411972, 8)\n"
     ]
    }
   ],
   "source": [
    "## predict\n",
    "pred_result = model.predict(X_test, batch_size=128)\n",
    "print('pred_result: ', pred_result.shape)"
   ]
  },
  {
   "cell_type": "code",
   "execution_count": 14,
   "id": "5ec709bf",
   "metadata": {
    "execution": {
     "iopub.execute_input": "2024-12-03T08:15:50.813998Z",
     "iopub.status.busy": "2024-12-03T08:15:50.813563Z",
     "iopub.status.idle": "2024-12-03T08:15:50.850260Z",
     "shell.execute_reply": "2024-12-03T08:15:50.848864Z"
    },
    "papermill": {
     "duration": 0.544945,
     "end_time": "2024-12-03T08:15:50.852628",
     "exception": false,
     "start_time": "2024-12-03T08:15:50.307683",
     "status": "completed"
    },
    "tags": []
   },
   "outputs": [
    {
     "name": "stderr",
     "output_type": "stream",
     "text": [
      "/tmp/ipykernel_17/404252562.py:1: SettingWithCopyWarning: \n",
      "A value is trying to be set on a copy of a slice from a DataFrame.\n",
      "Try using .loc[row_indexer,col_indexer] = value instead\n",
      "\n",
      "See the caveats in the documentation: https://pandas.pydata.org/pandas-docs/stable/user_guide/indexing.html#returning-a-view-versus-a-copy\n",
      "  test_data['emotion'] = label_decode(label_encoder, pred_result)\n"
     ]
    }
   ],
   "source": [
    "test_data['emotion'] = label_decode(label_encoder, pred_result)"
   ]
  },
  {
   "cell_type": "code",
   "execution_count": 15,
   "id": "01e1210b",
   "metadata": {
    "execution": {
     "iopub.execute_input": "2024-12-03T08:15:51.740565Z",
     "iopub.status.busy": "2024-12-03T08:15:51.740143Z",
     "iopub.status.idle": "2024-12-03T08:15:52.345102Z",
     "shell.execute_reply": "2024-12-03T08:15:52.343999Z"
    },
    "papermill": {
     "duration": 1.049425,
     "end_time": "2024-12-03T08:15:52.347794",
     "exception": false,
     "start_time": "2024-12-03T08:15:51.298369",
     "status": "completed"
    },
    "tags": []
   },
   "outputs": [],
   "source": [
    "submission = test_data[['tweet_id', 'emotion']]\n",
    "submission = submission.rename(columns={'tweet_id': 'id'})\n",
    "submission.to_csv('/kaggle/working/submission.csv', index=False)"
   ]
  },
  {
   "cell_type": "code",
   "execution_count": 16,
   "id": "84226616",
   "metadata": {
    "execution": {
     "iopub.execute_input": "2024-12-03T08:15:53.288523Z",
     "iopub.status.busy": "2024-12-03T08:15:53.287901Z",
     "iopub.status.idle": "2024-12-03T08:15:53.305154Z",
     "shell.execute_reply": "2024-12-03T08:15:53.303975Z"
    },
    "papermill": {
     "duration": 0.463994,
     "end_time": "2024-12-03T08:15:53.307405",
     "exception": false,
     "start_time": "2024-12-03T08:15:52.843411",
     "status": "completed"
    },
    "tags": []
   },
   "outputs": [
    {
     "name": "stdout",
     "output_type": "stream",
     "text": [
      "Submission file created: submission1030.csv\n"
     ]
    },
    {
     "data": {
      "text/html": [
       "<div>\n",
       "<style scoped>\n",
       "    .dataframe tbody tr th:only-of-type {\n",
       "        vertical-align: middle;\n",
       "    }\n",
       "\n",
       "    .dataframe tbody tr th {\n",
       "        vertical-align: top;\n",
       "    }\n",
       "\n",
       "    .dataframe thead th {\n",
       "        text-align: right;\n",
       "    }\n",
       "</style>\n",
       "<table border=\"1\" class=\"dataframe\">\n",
       "  <thead>\n",
       "    <tr style=\"text-align: right;\">\n",
       "      <th></th>\n",
       "      <th>id</th>\n",
       "      <th>emotion</th>\n",
       "    </tr>\n",
       "  </thead>\n",
       "  <tbody>\n",
       "    <tr>\n",
       "      <th>2</th>\n",
       "      <td>0x28b412</td>\n",
       "      <td>joy</td>\n",
       "    </tr>\n",
       "    <tr>\n",
       "      <th>4</th>\n",
       "      <td>0x2de201</td>\n",
       "      <td>anticipation</td>\n",
       "    </tr>\n",
       "    <tr>\n",
       "      <th>9</th>\n",
       "      <td>0x218443</td>\n",
       "      <td>joy</td>\n",
       "    </tr>\n",
       "    <tr>\n",
       "      <th>30</th>\n",
       "      <td>0x2939d5</td>\n",
       "      <td>joy</td>\n",
       "    </tr>\n",
       "    <tr>\n",
       "      <th>33</th>\n",
       "      <td>0x26289a</td>\n",
       "      <td>anticipation</td>\n",
       "    </tr>\n",
       "    <tr>\n",
       "      <th>...</th>\n",
       "      <td>...</td>\n",
       "      <td>...</td>\n",
       "    </tr>\n",
       "    <tr>\n",
       "      <th>1867525</th>\n",
       "      <td>0x2913b4</td>\n",
       "      <td>anticipation</td>\n",
       "    </tr>\n",
       "    <tr>\n",
       "      <th>1867529</th>\n",
       "      <td>0x2a980e</td>\n",
       "      <td>anticipation</td>\n",
       "    </tr>\n",
       "    <tr>\n",
       "      <th>1867530</th>\n",
       "      <td>0x316b80</td>\n",
       "      <td>sadness</td>\n",
       "    </tr>\n",
       "    <tr>\n",
       "      <th>1867531</th>\n",
       "      <td>0x29d0cb</td>\n",
       "      <td>joy</td>\n",
       "    </tr>\n",
       "    <tr>\n",
       "      <th>1867532</th>\n",
       "      <td>0x2a6a4f</td>\n",
       "      <td>sadness</td>\n",
       "    </tr>\n",
       "  </tbody>\n",
       "</table>\n",
       "<p>411972 rows × 2 columns</p>\n",
       "</div>"
      ],
      "text/plain": [
       "               id       emotion\n",
       "2        0x28b412           joy\n",
       "4        0x2de201  anticipation\n",
       "9        0x218443           joy\n",
       "30       0x2939d5           joy\n",
       "33       0x26289a  anticipation\n",
       "...           ...           ...\n",
       "1867525  0x2913b4  anticipation\n",
       "1867529  0x2a980e  anticipation\n",
       "1867530  0x316b80       sadness\n",
       "1867531  0x29d0cb           joy\n",
       "1867532  0x2a6a4f       sadness\n",
       "\n",
       "[411972 rows x 2 columns]"
      ]
     },
     "execution_count": 16,
     "metadata": {},
     "output_type": "execute_result"
    }
   ],
   "source": [
    "print(\"Submission file created: submission1030.csv\")\n",
    "submission"
   ]
  }
 ],
 "metadata": {
  "kaggle": {
   "accelerator": "none",
   "dataSources": [
    {
     "databundleVersionId": 9912598,
     "sourceId": 87232,
     "sourceType": "competition"
    }
   ],
   "dockerImageVersionId": 30805,
   "isGpuEnabled": false,
   "isInternetEnabled": true,
   "language": "python",
   "sourceType": "notebook"
  },
  "kernelspec": {
   "display_name": "Python 3",
   "language": "python",
   "name": "python3"
  },
  "language_info": {
   "codemirror_mode": {
    "name": "ipython",
    "version": 3
   },
   "file_extension": ".py",
   "mimetype": "text/x-python",
   "name": "python",
   "nbconvert_exporter": "python",
   "pygments_lexer": "ipython3",
   "version": "3.10.14"
  },
  "papermill": {
   "default_parameters": {},
   "duration": 571.756205,
   "end_time": "2024-12-03T08:15:57.072867",
   "environment_variables": {},
   "exception": null,
   "input_path": "__notebook__.ipynb",
   "output_path": "__notebook__.ipynb",
   "parameters": {},
   "start_time": "2024-12-03T08:06:25.316662",
   "version": "2.6.0"
  }
 },
 "nbformat": 4,
 "nbformat_minor": 5
}
